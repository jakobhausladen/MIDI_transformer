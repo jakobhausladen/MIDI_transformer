{
 "cells": [
  {
   "cell_type": "code",
   "execution_count": 4,
   "id": "acf69635-6746-402b-b574-422c6e03be1d",
   "metadata": {},
   "outputs": [],
   "source": [
    "import plotly.graph_objects as go\n",
    "import pretty_midi\n",
    "import math\n",
    "\n",
    "from midi_utils.encoding_decoding import get_note_events\n",
    "import json"
   ]
  },
  {
   "cell_type": "code",
   "execution_count": 2,
   "id": "ce242998-a948-4237-9a72-0af6c156479a",
   "metadata": {},
   "outputs": [],
   "source": [
    "def plot_piano_roll(midi_file_path, seed_length=None, width=800, height=400):\n",
    "\n",
    "    tempi, pitch_counts, note_events = get_note_events(midi_file_path)\n",
    "    measures = [note_event for note_event in note_events if note_event[0] == 0]\n",
    "    note_events = [note_event for note_event in note_events if note_event[0] != 0]\n",
    "    \n",
    "    x_min = min([note_event[1] for note_event in note_events])\n",
    "    x_max = max([note_event[1] for note_event in note_events]) + note_events[-1][2]\n",
    "    y_min = min([note_event[0] for note_event in note_events]) - 2.5\n",
    "    y_max = max([note_event[0] for note_event in note_events]) + 2.5\n",
    "\n",
    "    \n",
    "    fig = go.Figure()\n",
    "\n",
    "    # add barlines\n",
    "    for i in [measure[1] for measure in measures][1:]:\n",
    "        fig.add_shape(\n",
    "            type='line',\n",
    "            x0=i,\n",
    "            y0=y_min,\n",
    "            x1=i,\n",
    "            y1=y_max,\n",
    "            line=dict(\n",
    "                color='#1258DC',\n",
    "                width=0.5,\n",
    "                dash='dot'\n",
    "            )\n",
    "        )\n",
    "\n",
    "    # add notes\n",
    "    for index, note_event in enumerate(note_events):\n",
    "\n",
    "        # color the first n=seed_length notes purple\n",
    "        if not seed_length is None and index+1 <= seed_length:\n",
    "            color = '#3A004C'\n",
    "            fillcolor = '#C91BFE'\n",
    "        else:\n",
    "            color = '#0A337F'\n",
    "            fillcolor = '#6395F2'\n",
    "    \n",
    "        pitch = note_event[0]\n",
    "        note_name = pretty_midi.note_number_to_name(pitch)\n",
    "        note_start = note_event[1]\n",
    "        duration = note_event[2]\n",
    "        note_end = note_start + duration\n",
    "\n",
    "        x0 = note_start\n",
    "        y0 = pitch-0.5\n",
    "        x1 = note_end\n",
    "        y1 = pitch+0.5\n",
    "        \n",
    "        fig.add_trace(go.Scatter(\n",
    "            x=[x0, x1, x1, x0, x0],\n",
    "            y=[y0, y0, y1, y1, y0],\n",
    "            mode='lines',\n",
    "            fill='toself',\n",
    "            line=dict(color=color, width=1),\n",
    "            fillcolor=fillcolor,\n",
    "            text=note_name,\n",
    "            hoverinfo='text'\n",
    "        ))\n",
    "\n",
    "\n",
    "    # set axes ranges and grid\n",
    "    fig.update_xaxes(\n",
    "        range=[x_min-0.02, x_max+0.02],\n",
    "        minallowed=x_min-0.02,\n",
    "        maxallowed=x_max+0.02,\n",
    "        showgrid=True,\n",
    "        gridwidth=1,\n",
    "        dtick=1,\n",
    "        showticklabels=False\n",
    "    )\n",
    "    fig.update_yaxes(\n",
    "        range=[y_min, y_max],\n",
    "        minallowed=y_min,\n",
    "        maxallowed=y_max,\n",
    "        showgrid=True,\n",
    "        gridwidth=1,\n",
    "        tick0=0.5,\n",
    "        dtick=1,\n",
    "        showticklabels=False\n",
    "    )\n",
    "\n",
    "    \n",
    "    fig.update_layout(\n",
    "        width=width,\n",
    "        height=height,\n",
    "        margin=dict(t=0, b=0, l=0, r=0),\n",
    "        showlegend=False,\n",
    "        template='plotly_white'\n",
    "    )\n",
    "    \n",
    "    return fig"
   ]
  },
  {
   "cell_type": "code",
   "execution_count": 13,
   "id": "21e0ddc0",
   "metadata": {},
   "outputs": [],
   "source": [
    "fig = plot_piano_roll(\n",
    "    'lach_nice.mid', \n",
    "    seed_length=21,\n",
    "    width=None,\n",
    "    height=200\n",
    ")\n",
    "\n",
    "config = {\n",
    "    'scrollZoom': False,\n",
    "    'displaylogo': False,\n",
    "    'modeBarButtonsToRemove': ['zoomIn', 'zoomOut', 'autoScale', 'toImage']\n",
    "}"
   ]
  },
  {
   "cell_type": "code",
   "execution_count": 14,
   "id": "b4fdec8f",
   "metadata": {},
   "outputs": [],
   "source": [
    "plot_dict_path = 'article_plots.json'\n",
    "\n",
    "with open(plot_dict_path, 'r') as f:\n",
    "    plot_dict = json.load(f)"
   ]
  },
  {
   "cell_type": "code",
   "execution_count": 16,
   "id": "bb4abd83",
   "metadata": {},
   "outputs": [
    {
     "data": {
      "application/vnd.plotly.v1+json": {
       "config": {
        "displaylogo": false,
        "modeBarButtonsToRemove": [
         "zoomIn",
         "zoomOut",
         "autoScale",
         "toImage"
        ],
        "plotlyServerURL": "https://plot.ly",
        "responsive": true,
        "scrollZoom": false
       },
       "data": [
        {
         "fill": "toself",
         "fillcolor": "#C91BFE",
         "hoverinfo": "text",
         "line": {
          "color": "#3A004C",
          "width": 1
         },
         "mode": "lines",
         "text": "G2",
         "type": "scatter",
         "x": [
          0,
          1.999998,
          1.999998,
          0,
          0
         ],
         "y": [
          42.5,
          42.5,
          43.5,
          43.5,
          42.5
         ]
        },
        {
         "fill": "toself",
         "fillcolor": "#C91BFE",
         "hoverinfo": "text",
         "line": {
          "color": "#3A004C",
          "width": 1
         },
         "mode": "lines",
         "text": "A#3",
         "type": "scatter",
         "x": [
          0,
          1.4999985000000002,
          1.4999985000000002,
          0,
          0
         ],
         "y": [
          57.5,
          57.5,
          58.5,
          58.5,
          57.5
         ]
        },
        {
         "fill": "toself",
         "fillcolor": "#C91BFE",
         "hoverinfo": "text",
         "line": {
          "color": "#3A004C",
          "width": 1
         },
         "mode": "lines",
         "text": "D4",
         "type": "scatter",
         "x": [
          0,
          1.4999985000000002,
          1.4999985000000002,
          0,
          0
         ],
         "y": [
          61.5,
          61.5,
          62.5,
          62.5,
          61.5
         ]
        },
        {
         "fill": "toself",
         "fillcolor": "#C91BFE",
         "hoverinfo": "text",
         "line": {
          "color": "#3A004C",
          "width": 1
         },
         "mode": "lines",
         "text": "G4",
         "type": "scatter",
         "x": [
          0,
          1.4999985000000002,
          1.4999985000000002,
          0,
          0
         ],
         "y": [
          66.5,
          66.5,
          67.5,
          67.5,
          66.5
         ]
        },
        {
         "fill": "toself",
         "fillcolor": "#C91BFE",
         "hoverinfo": "text",
         "line": {
          "color": "#3A004C",
          "width": 1
         },
         "mode": "lines",
         "text": "G3",
         "type": "scatter",
         "x": [
          0.999999,
          1.4999985000000002,
          1.4999985000000002,
          0.999999,
          0.999999
         ],
         "y": [
          54.5,
          54.5,
          55.5,
          55.5,
          54.5
         ]
        },
        {
         "fill": "toself",
         "fillcolor": "#C91BFE",
         "hoverinfo": "text",
         "line": {
          "color": "#3A004C",
          "width": 1
         },
         "mode": "lines",
         "text": "A3",
         "type": "scatter",
         "x": [
          1.4999985000000002,
          1.999998,
          1.999998,
          1.4999985000000002,
          1.4999985000000002
         ],
         "y": [
          56.5,
          56.5,
          57.5,
          57.5,
          56.5
         ]
        },
        {
         "fill": "toself",
         "fillcolor": "#C91BFE",
         "hoverinfo": "text",
         "line": {
          "color": "#3A004C",
          "width": 1
         },
         "mode": "lines",
         "text": "F4",
         "type": "scatter",
         "x": [
          1.4999985000000002,
          1.999998,
          1.999998,
          1.4999985000000002,
          1.4999985000000002
         ],
         "y": [
          64.5,
          64.5,
          65.5,
          65.5,
          64.5
         ]
        },
        {
         "fill": "toself",
         "fillcolor": "#C91BFE",
         "hoverinfo": "text",
         "line": {
          "color": "#3A004C",
          "width": 1
         },
         "mode": "lines",
         "text": "D#4",
         "type": "scatter",
         "x": [
          1.74999825,
          1.999998,
          1.999998,
          1.74999825,
          1.74999825
         ],
         "y": [
          62.5,
          62.5,
          63.5,
          63.5,
          62.5
         ]
        },
        {
         "fill": "toself",
         "fillcolor": "#C91BFE",
         "hoverinfo": "text",
         "line": {
          "color": "#3A004C",
          "width": 1
         },
         "mode": "lines",
         "text": "G2",
         "type": "scatter",
         "x": [
          1.999998,
          3.999996,
          3.999996,
          1.999998,
          1.999998
         ],
         "y": [
          42.5,
          42.5,
          43.5,
          43.5,
          42.5
         ]
        },
        {
         "fill": "toself",
         "fillcolor": "#C91BFE",
         "hoverinfo": "text",
         "line": {
          "color": "#3A004C",
          "width": 1
         },
         "mode": "lines",
         "text": "A#3",
         "type": "scatter",
         "x": [
          1.999998,
          2.4999975,
          2.4999975,
          1.999998,
          1.999998
         ],
         "y": [
          57.5,
          57.5,
          58.5,
          58.5,
          57.5
         ]
        },
        {
         "fill": "toself",
         "fillcolor": "#C91BFE",
         "hoverinfo": "text",
         "line": {
          "color": "#3A004C",
          "width": 1
         },
         "mode": "lines",
         "text": "D4",
         "type": "scatter",
         "x": [
          1.999998,
          2.4999975,
          2.4999975,
          1.999998,
          1.999998
         ],
         "y": [
          61.5,
          61.5,
          62.5,
          62.5,
          61.5
         ]
        },
        {
         "fill": "toself",
         "fillcolor": "#C91BFE",
         "hoverinfo": "text",
         "line": {
          "color": "#3A004C",
          "width": 1
         },
         "mode": "lines",
         "text": "C4",
         "type": "scatter",
         "x": [
          2.4999975,
          2.9999970000000005,
          2.9999970000000005,
          2.4999975,
          2.4999975
         ],
         "y": [
          59.5,
          59.5,
          60.5,
          60.5,
          59.5
         ]
        },
        {
         "fill": "toself",
         "fillcolor": "#C91BFE",
         "hoverinfo": "text",
         "line": {
          "color": "#3A004C",
          "width": 1
         },
         "mode": "lines",
         "text": "D4",
         "type": "scatter",
         "x": [
          2.9999970000000005,
          3.999996,
          3.999996,
          2.9999970000000005,
          2.9999970000000005
         ],
         "y": [
          61.5,
          61.5,
          62.5,
          62.5,
          61.5
         ]
        },
        {
         "fill": "toself",
         "fillcolor": "#C91BFE",
         "hoverinfo": "text",
         "line": {
          "color": "#3A004C",
          "width": 1
         },
         "mode": "lines",
         "text": "A#4",
         "type": "scatter",
         "x": [
          2.9999970000000005,
          3.999996,
          3.999996,
          2.9999970000000005,
          2.9999970000000005
         ],
         "y": [
          69.5,
          69.5,
          70.5,
          70.5,
          69.5
         ]
        },
        {
         "fill": "toself",
         "fillcolor": "#C91BFE",
         "hoverinfo": "text",
         "line": {
          "color": "#3A004C",
          "width": 1
         },
         "mode": "lines",
         "text": "D#3",
         "type": "scatter",
         "x": [
          3.999996,
          5.999994000000001,
          5.999994000000001,
          3.999996,
          3.999996
         ],
         "y": [
          50.5,
          50.5,
          51.5,
          51.5,
          50.5
         ]
        },
        {
         "fill": "toself",
         "fillcolor": "#C91BFE",
         "hoverinfo": "text",
         "line": {
          "color": "#3A004C",
          "width": 1
         },
         "mode": "lines",
         "text": "G3",
         "type": "scatter",
         "x": [
          3.999996,
          5.999994000000001,
          5.999994000000001,
          3.999996,
          3.999996
         ],
         "y": [
          54.5,
          54.5,
          55.5,
          55.5,
          54.5
         ]
        },
        {
         "fill": "toself",
         "fillcolor": "#C91BFE",
         "hoverinfo": "text",
         "line": {
          "color": "#3A004C",
          "width": 1
         },
         "mode": "lines",
         "text": "D#4",
         "type": "scatter",
         "x": [
          3.999996,
          4.999995,
          4.999995,
          3.999996,
          3.999996
         ],
         "y": [
          62.5,
          62.5,
          63.5,
          63.5,
          62.5
         ]
        },
        {
         "fill": "toself",
         "fillcolor": "#C91BFE",
         "hoverinfo": "text",
         "line": {
          "color": "#3A004C",
          "width": 1
         },
         "mode": "lines",
         "text": "C5",
         "type": "scatter",
         "x": [
          4.4999955,
          4.74999525,
          4.74999525,
          4.4999955,
          4.4999955
         ],
         "y": [
          71.5,
          71.5,
          72.5,
          72.5,
          71.5
         ]
        },
        {
         "fill": "toself",
         "fillcolor": "#C91BFE",
         "hoverinfo": "text",
         "line": {
          "color": "#3A004C",
          "width": 1
         },
         "mode": "lines",
         "text": "A#4",
         "type": "scatter",
         "x": [
          4.74999525,
          4.999995,
          4.999995,
          4.74999525,
          4.74999525
         ],
         "y": [
          69.5,
          69.5,
          70.5,
          70.5,
          69.5
         ]
        },
        {
         "fill": "toself",
         "fillcolor": "#C91BFE",
         "hoverinfo": "text",
         "line": {
          "color": "#3A004C",
          "width": 1
         },
         "mode": "lines",
         "text": "A4",
         "type": "scatter",
         "x": [
          4.999995,
          5.4999945,
          5.4999945,
          4.999995,
          4.999995
         ],
         "y": [
          68.5,
          68.5,
          69.5,
          69.5,
          68.5
         ]
        },
        {
         "fill": "toself",
         "fillcolor": "#C91BFE",
         "hoverinfo": "text",
         "line": {
          "color": "#3A004C",
          "width": 1
         },
         "mode": "lines",
         "text": "G4",
         "type": "scatter",
         "x": [
          5.4999945,
          5.999994000000001,
          5.999994000000001,
          5.4999945,
          5.4999945
         ],
         "y": [
          66.5,
          66.5,
          67.5,
          67.5,
          66.5
         ]
        },
        {
         "fill": "toself",
         "fillcolor": "#6395F2",
         "hoverinfo": "text",
         "line": {
          "color": "#0A337F",
          "width": 1
         },
         "mode": "lines",
         "text": "D3",
         "type": "scatter",
         "x": [
          5.999994000000001,
          7.999992,
          7.999992,
          5.999994000000001,
          5.999994000000001
         ],
         "y": [
          49.5,
          49.5,
          50.5,
          50.5,
          49.5
         ]
        },
        {
         "fill": "toself",
         "fillcolor": "#6395F2",
         "hoverinfo": "text",
         "line": {
          "color": "#0A337F",
          "width": 1
         },
         "mode": "lines",
         "text": "A3",
         "type": "scatter",
         "x": [
          5.999994000000001,
          7.999992,
          7.999992,
          5.999994000000001,
          5.999994000000001
         ],
         "y": [
          56.5,
          56.5,
          57.5,
          57.5,
          56.5
         ]
        },
        {
         "fill": "toself",
         "fillcolor": "#6395F2",
         "hoverinfo": "text",
         "line": {
          "color": "#0A337F",
          "width": 1
         },
         "mode": "lines",
         "text": "D4",
         "type": "scatter",
         "x": [
          5.999994000000001,
          7.4999925,
          7.4999925,
          5.999994000000001,
          5.999994000000001
         ],
         "y": [
          61.5,
          61.5,
          62.5,
          62.5,
          61.5
         ]
        },
        {
         "fill": "toself",
         "fillcolor": "#6395F2",
         "hoverinfo": "text",
         "line": {
          "color": "#0A337F",
          "width": 1
         },
         "mode": "lines",
         "text": "A4",
         "type": "scatter",
         "x": [
          5.999994000000001,
          6.74999325,
          6.74999325,
          5.999994000000001,
          5.999994000000001
         ],
         "y": [
          68.5,
          68.5,
          69.5,
          69.5,
          68.5
         ]
        },
        {
         "fill": "toself",
         "fillcolor": "#6395F2",
         "hoverinfo": "text",
         "line": {
          "color": "#0A337F",
          "width": 1
         },
         "mode": "lines",
         "text": "G4",
         "type": "scatter",
         "x": [
          6.74999325,
          6.999993,
          6.999993,
          6.74999325,
          6.74999325
         ],
         "y": [
          66.5,
          66.5,
          67.5,
          67.5,
          66.5
         ]
        },
        {
         "fill": "toself",
         "fillcolor": "#6395F2",
         "hoverinfo": "text",
         "line": {
          "color": "#0A337F",
          "width": 1
         },
         "mode": "lines",
         "text": "F#4",
         "type": "scatter",
         "x": [
          6.999993,
          7.4999925,
          7.4999925,
          6.999993,
          6.999993
         ],
         "y": [
          65.5,
          65.5,
          66.5,
          66.5,
          65.5
         ]
        },
        {
         "fill": "toself",
         "fillcolor": "#6395F2",
         "hoverinfo": "text",
         "line": {
          "color": "#0A337F",
          "width": 1
         },
         "mode": "lines",
         "text": "C4",
         "type": "scatter",
         "x": [
          7.4999925,
          7.999992,
          7.999992,
          7.4999925,
          7.4999925
         ],
         "y": [
          59.5,
          59.5,
          60.5,
          60.5,
          59.5
         ]
        },
        {
         "fill": "toself",
         "fillcolor": "#6395F2",
         "hoverinfo": "text",
         "line": {
          "color": "#0A337F",
          "width": 1
         },
         "mode": "lines",
         "text": "G2",
         "type": "scatter",
         "x": [
          7.999992,
          10.999989,
          10.999989,
          7.999992,
          7.999992
         ],
         "y": [
          42.5,
          42.5,
          43.5,
          43.5,
          42.5
         ]
        },
        {
         "fill": "toself",
         "fillcolor": "#6395F2",
         "hoverinfo": "text",
         "line": {
          "color": "#0A337F",
          "width": 1
         },
         "mode": "lines",
         "text": "D3",
         "type": "scatter",
         "x": [
          7.999992,
          10.4999895,
          10.4999895,
          7.999992,
          7.999992
         ],
         "y": [
          49.5,
          49.5,
          50.5,
          50.5,
          49.5
         ]
        },
        {
         "fill": "toself",
         "fillcolor": "#6395F2",
         "hoverinfo": "text",
         "line": {
          "color": "#0A337F",
          "width": 1
         },
         "mode": "lines",
         "text": "B3",
         "type": "scatter",
         "x": [
          7.999992,
          8.74999125,
          8.74999125,
          7.999992,
          7.999992
         ],
         "y": [
          58.5,
          58.5,
          59.5,
          59.5,
          58.5
         ]
        },
        {
         "fill": "toself",
         "fillcolor": "#6395F2",
         "hoverinfo": "text",
         "line": {
          "color": "#0A337F",
          "width": 1
         },
         "mode": "lines",
         "text": "D4",
         "type": "scatter",
         "x": [
          7.999992,
          8.74999125,
          8.74999125,
          7.999992,
          7.999992
         ],
         "y": [
          61.5,
          61.5,
          62.5,
          62.5,
          61.5
         ]
        },
        {
         "fill": "toself",
         "fillcolor": "#6395F2",
         "hoverinfo": "text",
         "line": {
          "color": "#0A337F",
          "width": 1
         },
         "mode": "lines",
         "text": "G4",
         "type": "scatter",
         "x": [
          7.999992,
          8.74999125,
          8.74999125,
          7.999992,
          7.999992
         ],
         "y": [
          66.5,
          66.5,
          67.5,
          67.5,
          66.5
         ]
        },
        {
         "fill": "toself",
         "fillcolor": "#6395F2",
         "hoverinfo": "text",
         "line": {
          "color": "#0A337F",
          "width": 1
         },
         "mode": "lines",
         "text": "F4",
         "type": "scatter",
         "x": [
          8.74999125,
          8.8727184,
          8.8727184,
          8.74999125,
          8.74999125
         ],
         "y": [
          64.5,
          64.5,
          65.5,
          65.5,
          64.5
         ]
        },
        {
         "fill": "toself",
         "fillcolor": "#6395F2",
         "hoverinfo": "text",
         "line": {
          "color": "#0A337F",
          "width": 1
         },
         "mode": "lines",
         "text": "D#4",
         "type": "scatter",
         "x": [
          8.8727184,
          8.999991,
          8.999991,
          8.8727184,
          8.8727184
         ],
         "y": [
          62.5,
          62.5,
          63.5,
          63.5,
          62.5
         ]
        },
        {
         "fill": "toself",
         "fillcolor": "#6395F2",
         "hoverinfo": "text",
         "line": {
          "color": "#0A337F",
          "width": 1
         },
         "mode": "lines",
         "text": "D4",
         "type": "scatter",
         "x": [
          8.999991,
          9.4999905,
          9.4999905,
          8.999991,
          8.999991
         ],
         "y": [
          61.5,
          61.5,
          62.5,
          62.5,
          61.5
         ]
        },
        {
         "fill": "toself",
         "fillcolor": "#6395F2",
         "hoverinfo": "text",
         "line": {
          "color": "#0A337F",
          "width": 1
         },
         "mode": "lines",
         "text": "C4",
         "type": "scatter",
         "x": [
          9.4999905,
          9.99999,
          9.99999,
          9.4999905,
          9.4999905
         ],
         "y": [
          59.5,
          59.5,
          60.5,
          60.5,
          59.5
         ]
        },
        {
         "fill": "toself",
         "fillcolor": "#6395F2",
         "hoverinfo": "text",
         "line": {
          "color": "#0A337F",
          "width": 1
         },
         "mode": "lines",
         "text": "B3",
         "type": "scatter",
         "x": [
          9.99999,
          10.4999895,
          10.4999895,
          9.99999,
          9.99999
         ],
         "y": [
          58.5,
          58.5,
          59.5,
          59.5,
          58.5
         ]
        },
        {
         "fill": "toself",
         "fillcolor": "#6395F2",
         "hoverinfo": "text",
         "line": {
          "color": "#0A337F",
          "width": 1
         },
         "mode": "lines",
         "text": "A3",
         "type": "scatter",
         "x": [
          10.4999895,
          10.999989,
          10.999989,
          10.4999895,
          10.4999895
         ],
         "y": [
          56.5,
          56.5,
          57.5,
          57.5,
          56.5
         ]
        },
        {
         "fill": "toself",
         "fillcolor": "#6395F2",
         "hoverinfo": "text",
         "line": {
          "color": "#0A337F",
          "width": 1
         },
         "mode": "lines",
         "text": "G3",
         "type": "scatter",
         "x": [
          10.999989,
          11.999988000000002,
          11.999988000000002,
          10.999989,
          10.999989
         ],
         "y": [
          54.5,
          54.5,
          55.5,
          55.5,
          54.5
         ]
        },
        {
         "fill": "toself",
         "fillcolor": "#6395F2",
         "hoverinfo": "text",
         "line": {
          "color": "#0A337F",
          "width": 1
         },
         "mode": "lines",
         "text": "A#3",
         "type": "scatter",
         "x": [
          10.999989,
          11.999988000000002,
          11.999988000000002,
          10.999989,
          10.999989
         ],
         "y": [
          57.5,
          57.5,
          58.5,
          58.5,
          57.5
         ]
        },
        {
         "fill": "toself",
         "fillcolor": "#6395F2",
         "hoverinfo": "text",
         "line": {
          "color": "#0A337F",
          "width": 1
         },
         "mode": "lines",
         "text": "D4",
         "type": "scatter",
         "x": [
          10.999989,
          11.999988000000002,
          11.999988000000002,
          10.999989,
          10.999989
         ],
         "y": [
          61.5,
          61.5,
          62.5,
          62.5,
          61.5
         ]
        },
        {
         "fill": "toself",
         "fillcolor": "#6395F2",
         "hoverinfo": "text",
         "line": {
          "color": "#0A337F",
          "width": 1
         },
         "mode": "lines",
         "text": "G4",
         "type": "scatter",
         "x": [
          10.999989,
          11.999988000000002,
          11.999988000000002,
          10.999989,
          10.999989
         ],
         "y": [
          66.5,
          66.5,
          67.5,
          67.5,
          66.5
         ]
        },
        {
         "fill": "toself",
         "fillcolor": "#6395F2",
         "hoverinfo": "text",
         "line": {
          "color": "#0A337F",
          "width": 1
         },
         "mode": "lines",
         "text": "C3",
         "type": "scatter",
         "x": [
          11.999988000000002,
          13.999986,
          13.999986,
          11.999988000000002,
          11.999988000000002
         ],
         "y": [
          47.5,
          47.5,
          48.5,
          48.5,
          47.5
         ]
        },
        {
         "fill": "toself",
         "fillcolor": "#6395F2",
         "hoverinfo": "text",
         "line": {
          "color": "#0A337F",
          "width": 1
         },
         "mode": "lines",
         "text": "D#4",
         "type": "scatter",
         "x": [
          11.999988000000002,
          12.24998775,
          12.24998775,
          11.999988000000002,
          11.999988000000002
         ],
         "y": [
          62.5,
          62.5,
          63.5,
          63.5,
          62.5
         ]
        },
        {
         "fill": "toself",
         "fillcolor": "#6395F2",
         "hoverinfo": "text",
         "line": {
          "color": "#0A337F",
          "width": 1
         },
         "mode": "lines",
         "text": "D4",
         "type": "scatter",
         "x": [
          12.24998775,
          12.499987500000001,
          12.499987500000001,
          12.24998775,
          12.24998775
         ],
         "y": [
          61.5,
          61.5,
          62.5,
          62.5,
          61.5
         ]
        },
        {
         "fill": "toself",
         "fillcolor": "#6395F2",
         "hoverinfo": "text",
         "line": {
          "color": "#0A337F",
          "width": 1
         },
         "mode": "lines",
         "text": "D#4",
         "type": "scatter",
         "x": [
          12.499987500000001,
          12.74998725,
          12.74998725,
          12.499987500000001,
          12.499987500000001
         ],
         "y": [
          62.5,
          62.5,
          63.5,
          63.5,
          62.5
         ]
        },
        {
         "fill": "toself",
         "fillcolor": "#6395F2",
         "hoverinfo": "text",
         "line": {
          "color": "#0A337F",
          "width": 1
         },
         "mode": "lines",
         "text": "D4",
         "type": "scatter",
         "x": [
          12.74998725,
          12.999987,
          12.999987,
          12.74998725,
          12.74998725
         ],
         "y": [
          61.5,
          61.5,
          62.5,
          62.5,
          61.5
         ]
        },
        {
         "fill": "toself",
         "fillcolor": "#6395F2",
         "hoverinfo": "text",
         "line": {
          "color": "#0A337F",
          "width": 1
         },
         "mode": "lines",
         "text": "D#4",
         "type": "scatter",
         "x": [
          12.999987,
          13.24998675,
          13.24998675,
          12.999987,
          12.999987
         ],
         "y": [
          62.5,
          62.5,
          63.5,
          63.5,
          62.5
         ]
        },
        {
         "fill": "toself",
         "fillcolor": "#6395F2",
         "hoverinfo": "text",
         "line": {
          "color": "#0A337F",
          "width": 1
         },
         "mode": "lines",
         "text": "F4",
         "type": "scatter",
         "x": [
          13.24998675,
          13.4999865,
          13.4999865,
          13.24998675,
          13.24998675
         ],
         "y": [
          64.5,
          64.5,
          65.5,
          65.5,
          64.5
         ]
        },
        {
         "fill": "toself",
         "fillcolor": "#6395F2",
         "hoverinfo": "text",
         "line": {
          "color": "#0A337F",
          "width": 1
         },
         "mode": "lines",
         "text": "G4",
         "type": "scatter",
         "x": [
          13.4999865,
          13.74998625,
          13.74998625,
          13.4999865,
          13.4999865
         ],
         "y": [
          66.5,
          66.5,
          67.5,
          67.5,
          66.5
         ]
        },
        {
         "fill": "toself",
         "fillcolor": "#6395F2",
         "hoverinfo": "text",
         "line": {
          "color": "#0A337F",
          "width": 1
         },
         "mode": "lines",
         "text": "F4",
         "type": "scatter",
         "x": [
          13.74998625,
          13.999986,
          13.999986,
          13.74998625,
          13.74998625
         ],
         "y": [
          64.5,
          64.5,
          65.5,
          65.5,
          64.5
         ]
        },
        {
         "fill": "toself",
         "fillcolor": "#6395F2",
         "hoverinfo": "text",
         "line": {
          "color": "#0A337F",
          "width": 1
         },
         "mode": "lines",
         "text": "G2",
         "type": "scatter",
         "x": [
          13.999986,
          15.999984,
          15.999984,
          13.999986,
          13.999986
         ],
         "y": [
          42.5,
          42.5,
          43.5,
          43.5,
          42.5
         ]
        },
        {
         "fill": "toself",
         "fillcolor": "#6395F2",
         "hoverinfo": "text",
         "line": {
          "color": "#0A337F",
          "width": 1
         },
         "mode": "lines",
         "text": "D4",
         "type": "scatter",
         "x": [
          13.999986,
          14.749985250000002,
          14.749985250000002,
          13.999986,
          13.999986
         ],
         "y": [
          61.5,
          61.5,
          62.5,
          62.5,
          61.5
         ]
        },
        {
         "fill": "toself",
         "fillcolor": "#6395F2",
         "hoverinfo": "text",
         "line": {
          "color": "#0A337F",
          "width": 1
         },
         "mode": "lines",
         "text": "B3",
         "type": "scatter",
         "x": [
          14.249985749999999,
          14.3727129,
          14.3727129,
          14.249985749999999,
          14.249985749999999
         ],
         "y": [
          58.5,
          58.5,
          59.5,
          59.5,
          58.5
         ]
        },
        {
         "fill": "toself",
         "fillcolor": "#6395F2",
         "hoverinfo": "text",
         "line": {
          "color": "#0A337F",
          "width": 1
         },
         "mode": "lines",
         "text": "A3",
         "type": "scatter",
         "x": [
          14.3727129,
          14.499985500000001,
          14.499985500000001,
          14.3727129,
          14.3727129
         ],
         "y": [
          56.5,
          56.5,
          57.5,
          57.5,
          56.5
         ]
        },
        {
         "fill": "toself",
         "fillcolor": "#6395F2",
         "hoverinfo": "text",
         "line": {
          "color": "#0A337F",
          "width": 1
         },
         "mode": "lines",
         "text": "G3",
         "type": "scatter",
         "x": [
          14.499985500000001,
          14.749985250000002,
          14.749985250000002,
          14.499985500000001,
          14.499985500000001
         ],
         "y": [
          54.5,
          54.5,
          55.5,
          55.5,
          54.5
         ]
        },
        {
         "fill": "toself",
         "fillcolor": "#6395F2",
         "hoverinfo": "text",
         "line": {
          "color": "#0A337F",
          "width": 1
         },
         "mode": "lines",
         "text": "A3",
         "type": "scatter",
         "x": [
          14.749985250000002,
          14.999985,
          14.999985,
          14.749985250000002,
          14.749985250000002
         ],
         "y": [
          56.5,
          56.5,
          57.5,
          57.5,
          56.5
         ]
        },
        {
         "fill": "toself",
         "fillcolor": "#6395F2",
         "hoverinfo": "text",
         "line": {
          "color": "#0A337F",
          "width": 1
         },
         "mode": "lines",
         "text": "B3",
         "type": "scatter",
         "x": [
          14.999985,
          15.249984750000001,
          15.249984750000001,
          14.999985,
          14.999985
         ],
         "y": [
          58.5,
          58.5,
          59.5,
          59.5,
          58.5
         ]
        },
        {
         "fill": "toself",
         "fillcolor": "#6395F2",
         "hoverinfo": "text",
         "line": {
          "color": "#0A337F",
          "width": 1
         },
         "mode": "lines",
         "text": "C4",
         "type": "scatter",
         "x": [
          15.249984750000001,
          15.4999845,
          15.4999845,
          15.249984750000001,
          15.249984750000001
         ],
         "y": [
          59.5,
          59.5,
          60.5,
          60.5,
          59.5
         ]
        },
        {
         "fill": "toself",
         "fillcolor": "#6395F2",
         "hoverinfo": "text",
         "line": {
          "color": "#0A337F",
          "width": 1
         },
         "mode": "lines",
         "text": "D4",
         "type": "scatter",
         "x": [
          15.4999845,
          15.74998425,
          15.74998425,
          15.4999845,
          15.4999845
         ],
         "y": [
          61.5,
          61.5,
          62.5,
          62.5,
          61.5
         ]
        },
        {
         "fill": "toself",
         "fillcolor": "#6395F2",
         "hoverinfo": "text",
         "line": {
          "color": "#0A337F",
          "width": 1
         },
         "mode": "lines",
         "text": "B3",
         "type": "scatter",
         "x": [
          15.74998425,
          15.999984,
          15.999984,
          15.74998425,
          15.74998425
         ],
         "y": [
          58.5,
          58.5,
          59.5,
          59.5,
          58.5
         ]
        },
        {
         "fill": "toself",
         "fillcolor": "#6395F2",
         "hoverinfo": "text",
         "line": {
          "color": "#0A337F",
          "width": 1
         },
         "mode": "lines",
         "text": "C3",
         "type": "scatter",
         "x": [
          15.999984,
          17.4999825,
          17.4999825,
          15.999984,
          15.999984
         ],
         "y": [
          47.5,
          47.5,
          48.5,
          48.5,
          47.5
         ]
        },
        {
         "fill": "toself",
         "fillcolor": "#6395F2",
         "hoverinfo": "text",
         "line": {
          "color": "#0A337F",
          "width": 1
         },
         "mode": "lines",
         "text": "D#4",
         "type": "scatter",
         "x": [
          15.999984,
          16.4999835,
          16.4999835,
          15.999984,
          15.999984
         ],
         "y": [
          62.5,
          62.5,
          63.5,
          63.5,
          62.5
         ]
        },
        {
         "fill": "toself",
         "fillcolor": "#6395F2",
         "hoverinfo": "text",
         "line": {
          "color": "#0A337F",
          "width": 1
         },
         "mode": "lines",
         "text": "D4",
         "type": "scatter",
         "x": [
          16.4999835,
          16.74998325,
          16.74998325,
          16.4999835,
          16.4999835
         ],
         "y": [
          61.5,
          61.5,
          62.5,
          62.5,
          61.5
         ]
        },
        {
         "fill": "toself",
         "fillcolor": "#6395F2",
         "hoverinfo": "text",
         "line": {
          "color": "#0A337F",
          "width": 1
         },
         "mode": "lines",
         "text": "C4",
         "type": "scatter",
         "x": [
          16.74998325,
          16.999983,
          16.999983,
          16.74998325,
          16.74998325
         ],
         "y": [
          59.5,
          59.5,
          60.5,
          60.5,
          59.5
         ]
        },
        {
         "fill": "toself",
         "fillcolor": "#6395F2",
         "hoverinfo": "text",
         "line": {
          "color": "#0A337F",
          "width": 1
         },
         "mode": "lines",
         "text": "B3",
         "type": "scatter",
         "x": [
          16.999983,
          17.24998275,
          17.24998275,
          16.999983,
          16.999983
         ],
         "y": [
          58.5,
          58.5,
          59.5,
          59.5,
          58.5
         ]
        },
        {
         "fill": "toself",
         "fillcolor": "#6395F2",
         "hoverinfo": "text",
         "line": {
          "color": "#0A337F",
          "width": 1
         },
         "mode": "lines",
         "text": "A3",
         "type": "scatter",
         "x": [
          17.24998275,
          17.4999825,
          17.4999825,
          17.24998275,
          17.24998275
         ],
         "y": [
          56.5,
          56.5,
          57.5,
          57.5,
          56.5
         ]
        },
        {
         "fill": "toself",
         "fillcolor": "#6395F2",
         "hoverinfo": "text",
         "line": {
          "color": "#0A337F",
          "width": 1
         },
         "mode": "lines",
         "text": "G3",
         "type": "scatter",
         "x": [
          17.4999825,
          17.999982,
          17.999982,
          17.4999825,
          17.4999825
         ],
         "y": [
          54.5,
          54.5,
          55.5,
          55.5,
          54.5
         ]
        },
        {
         "fill": "toself",
         "fillcolor": "#6395F2",
         "hoverinfo": "text",
         "line": {
          "color": "#0A337F",
          "width": 1
         },
         "mode": "lines",
         "text": "D#3",
         "type": "scatter",
         "x": [
          17.999982,
          19.99998,
          19.99998,
          17.999982,
          17.999982
         ],
         "y": [
          50.5,
          50.5,
          51.5,
          51.5,
          50.5
         ]
        },
        {
         "fill": "toself",
         "fillcolor": "#6395F2",
         "hoverinfo": "text",
         "line": {
          "color": "#0A337F",
          "width": 1
         },
         "mode": "lines",
         "text": "C4",
         "type": "scatter",
         "x": [
          17.999982,
          18.999981,
          18.999981,
          17.999982,
          17.999982
         ],
         "y": [
          59.5,
          59.5,
          60.5,
          60.5,
          59.5
         ]
        },
        {
         "fill": "toself",
         "fillcolor": "#6395F2",
         "hoverinfo": "text",
         "line": {
          "color": "#0A337F",
          "width": 1
         },
         "mode": "lines",
         "text": "D#4",
         "type": "scatter",
         "x": [
          18.4999815,
          18.74998125,
          18.74998125,
          18.4999815,
          18.4999815
         ],
         "y": [
          62.5,
          62.5,
          63.5,
          63.5,
          62.5
         ]
        },
        {
         "fill": "toself",
         "fillcolor": "#6395F2",
         "hoverinfo": "text",
         "line": {
          "color": "#0A337F",
          "width": 1
         },
         "mode": "lines",
         "text": "F4",
         "type": "scatter",
         "x": [
          18.74998125,
          18.999981,
          18.999981,
          18.74998125,
          18.74998125
         ],
         "y": [
          64.5,
          64.5,
          65.5,
          65.5,
          64.5
         ]
        },
        {
         "fill": "toself",
         "fillcolor": "#6395F2",
         "hoverinfo": "text",
         "line": {
          "color": "#0A337F",
          "width": 1
         },
         "mode": "lines",
         "text": "G4",
         "type": "scatter",
         "x": [
          18.999981,
          19.99998,
          19.99998,
          18.999981,
          18.999981
         ],
         "y": [
          66.5,
          66.5,
          67.5,
          67.5,
          66.5
         ]
        },
        {
         "fill": "toself",
         "fillcolor": "#6395F2",
         "hoverinfo": "text",
         "line": {
          "color": "#0A337F",
          "width": 1
         },
         "mode": "lines",
         "text": "A3",
         "type": "scatter",
         "x": [
          18.999981,
          19.4999805,
          19.4999805,
          18.999981,
          18.999981
         ],
         "y": [
          56.5,
          56.5,
          57.5,
          57.5,
          56.5
         ]
        },
        {
         "fill": "toself",
         "fillcolor": "#6395F2",
         "hoverinfo": "text",
         "line": {
          "color": "#0A337F",
          "width": 1
         },
         "mode": "lines",
         "text": "G3",
         "type": "scatter",
         "x": [
          19.4999805,
          19.99998,
          19.99998,
          19.4999805,
          19.4999805
         ],
         "y": [
          54.5,
          54.5,
          55.5,
          55.5,
          54.5
         ]
        },
        {
         "fill": "toself",
         "fillcolor": "#6395F2",
         "hoverinfo": "text",
         "line": {
          "color": "#0A337F",
          "width": 1
         },
         "mode": "lines",
         "text": "D3",
         "type": "scatter",
         "x": [
          19.99998,
          20.999979,
          20.999979,
          19.99998,
          19.99998
         ],
         "y": [
          49.5,
          49.5,
          50.5,
          50.5,
          49.5
         ]
        },
        {
         "fill": "toself",
         "fillcolor": "#6395F2",
         "hoverinfo": "text",
         "line": {
          "color": "#0A337F",
          "width": 1
         },
         "mode": "lines",
         "text": "F#4",
         "type": "scatter",
         "x": [
          19.99998,
          20.499979500000002,
          20.499979500000002,
          19.99998,
          19.99998
         ],
         "y": [
          65.5,
          65.5,
          66.5,
          66.5,
          65.5
         ]
        },
        {
         "fill": "toself",
         "fillcolor": "#6395F2",
         "hoverinfo": "text",
         "line": {
          "color": "#0A337F",
          "width": 1
         },
         "mode": "lines",
         "text": "D4",
         "type": "scatter",
         "x": [
          20.499979500000002,
          20.749979250000003,
          20.749979250000003,
          20.499979500000002,
          20.499979500000002
         ],
         "y": [
          61.5,
          61.5,
          62.5,
          62.5,
          61.5
         ]
        },
        {
         "fill": "toself",
         "fillcolor": "#6395F2",
         "hoverinfo": "text",
         "line": {
          "color": "#0A337F",
          "width": 1
         },
         "mode": "lines",
         "text": "E4",
         "type": "scatter",
         "x": [
          20.749979250000003,
          20.999979,
          20.999979,
          20.749979250000003,
          20.749979250000003
         ],
         "y": [
          63.5,
          63.5,
          64.5,
          64.5,
          63.5
         ]
        },
        {
         "fill": "toself",
         "fillcolor": "#6395F2",
         "hoverinfo": "text",
         "line": {
          "color": "#0A337F",
          "width": 1
         },
         "mode": "lines",
         "text": "F#3",
         "type": "scatter",
         "x": [
          20.999979,
          21.999978,
          21.999978,
          20.999979,
          20.999979
         ],
         "y": [
          53.5,
          53.5,
          54.5,
          54.5,
          53.5
         ]
        },
        {
         "fill": "toself",
         "fillcolor": "#6395F2",
         "hoverinfo": "text",
         "line": {
          "color": "#0A337F",
          "width": 1
         },
         "mode": "lines",
         "text": "A4",
         "type": "scatter",
         "x": [
          20.999979,
          21.999978,
          21.999978,
          20.999979,
          20.999979
         ],
         "y": [
          68.5,
          68.5,
          69.5,
          69.5,
          68.5
         ]
        },
        {
         "fill": "toself",
         "fillcolor": "#6395F2",
         "hoverinfo": "text",
         "line": {
          "color": "#0A337F",
          "width": 1
         },
         "mode": "lines",
         "text": "D4",
         "type": "scatter",
         "x": [
          20.999979,
          21.4999785,
          21.4999785,
          20.999979,
          20.999979
         ],
         "y": [
          61.5,
          61.5,
          62.5,
          62.5,
          61.5
         ]
        },
        {
         "fill": "toself",
         "fillcolor": "#6395F2",
         "hoverinfo": "text",
         "line": {
          "color": "#0A337F",
          "width": 1
         },
         "mode": "lines",
         "text": "C4",
         "type": "scatter",
         "x": [
          21.4999785,
          21.999978,
          21.999978,
          21.4999785,
          21.4999785
         ],
         "y": [
          59.5,
          59.5,
          60.5,
          60.5,
          59.5
         ]
        },
        {
         "fill": "toself",
         "fillcolor": "#6395F2",
         "hoverinfo": "text",
         "line": {
          "color": "#0A337F",
          "width": 1
         },
         "mode": "lines",
         "text": "D#3",
         "type": "scatter",
         "x": [
          21.999978,
          22.999976999999998,
          22.999976999999998,
          21.999978,
          21.999978
         ],
         "y": [
          50.5,
          50.5,
          51.5,
          51.5,
          50.5
         ]
        },
        {
         "fill": "toself",
         "fillcolor": "#6395F2",
         "hoverinfo": "text",
         "line": {
          "color": "#0A337F",
          "width": 1
         },
         "mode": "lines",
         "text": "C4",
         "type": "scatter",
         "x": [
          21.999978,
          22.4999775,
          22.4999775,
          21.999978,
          21.999978
         ],
         "y": [
          59.5,
          59.5,
          60.5,
          60.5,
          59.5
         ]
        },
        {
         "fill": "toself",
         "fillcolor": "#6395F2",
         "hoverinfo": "text",
         "line": {
          "color": "#0A337F",
          "width": 1
         },
         "mode": "lines",
         "text": "G4",
         "type": "scatter",
         "x": [
          21.999978,
          22.4999775,
          22.4999775,
          21.999978,
          21.999978
         ],
         "y": [
          66.5,
          66.5,
          67.5,
          67.5,
          66.5
         ]
        },
        {
         "fill": "toself",
         "fillcolor": "#6395F2",
         "hoverinfo": "text",
         "line": {
          "color": "#0A337F",
          "width": 1
         },
         "mode": "lines",
         "text": "A#3",
         "type": "scatter",
         "x": [
          22.4999775,
          22.999976999999998,
          22.999976999999998,
          22.4999775,
          22.4999775
         ],
         "y": [
          57.5,
          57.5,
          58.5,
          58.5,
          57.5
         ]
        },
        {
         "fill": "toself",
         "fillcolor": "#6395F2",
         "hoverinfo": "text",
         "line": {
          "color": "#0A337F",
          "width": 1
         },
         "mode": "lines",
         "text": "G4",
         "type": "scatter",
         "x": [
          22.4999775,
          22.999976999999998,
          22.999976999999998,
          22.4999775,
          22.4999775
         ],
         "y": [
          66.5,
          66.5,
          67.5,
          67.5,
          66.5
         ]
        },
        {
         "fill": "toself",
         "fillcolor": "#6395F2",
         "hoverinfo": "text",
         "line": {
          "color": "#0A337F",
          "width": 1
         },
         "mode": "lines",
         "text": "F3",
         "type": "scatter",
         "x": [
          22.999976999999998,
          23.4999765,
          23.4999765,
          22.999976999999998,
          22.999976999999998
         ],
         "y": [
          52.5,
          52.5,
          53.5,
          53.5,
          52.5
         ]
        },
        {
         "fill": "toself",
         "fillcolor": "#6395F2",
         "hoverinfo": "text",
         "line": {
          "color": "#0A337F",
          "width": 1
         },
         "mode": "lines",
         "text": "A3",
         "type": "scatter",
         "x": [
          22.999976999999998,
          23.4999765,
          23.4999765,
          22.999976999999998,
          22.999976999999998
         ],
         "y": [
          56.5,
          56.5,
          57.5,
          57.5,
          56.5
         ]
        },
        {
         "fill": "toself",
         "fillcolor": "#6395F2",
         "hoverinfo": "text",
         "line": {
          "color": "#0A337F",
          "width": 1
         },
         "mode": "lines",
         "text": "A4",
         "type": "scatter",
         "x": [
          22.999976999999998,
          23.4999765,
          23.4999765,
          22.999976999999998,
          22.999976999999998
         ],
         "y": [
          68.5,
          68.5,
          69.5,
          69.5,
          68.5
         ]
        }
       ],
       "layout": {
        "height": 200,
        "margin": {
         "b": 0,
         "l": 0,
         "r": 0,
         "t": 0
        },
        "shapes": [
         {
          "line": {
           "color": "#1258DC",
           "dash": "dot",
           "width": 0.5
          },
          "type": "line",
          "x0": 4,
          "x1": 4,
          "y0": 40.5,
          "y1": 74.5
         },
         {
          "line": {
           "color": "#1258DC",
           "dash": "dot",
           "width": 0.5
          },
          "type": "line",
          "x0": 8,
          "x1": 8,
          "y0": 40.5,
          "y1": 74.5
         },
         {
          "line": {
           "color": "#1258DC",
           "dash": "dot",
           "width": 0.5
          },
          "type": "line",
          "x0": 12,
          "x1": 12,
          "y0": 40.5,
          "y1": 74.5
         },
         {
          "line": {
           "color": "#1258DC",
           "dash": "dot",
           "width": 0.5
          },
          "type": "line",
          "x0": 16,
          "x1": 16,
          "y0": 40.5,
          "y1": 74.5
         },
         {
          "line": {
           "color": "#1258DC",
           "dash": "dot",
           "width": 0.5
          },
          "type": "line",
          "x0": 20,
          "x1": 20,
          "y0": 40.5,
          "y1": 74.5
         }
        ],
        "showlegend": false,
        "template": {
         "data": {
          "bar": [
           {
            "error_x": {
             "color": "#2a3f5f"
            },
            "error_y": {
             "color": "#2a3f5f"
            },
            "marker": {
             "line": {
              "color": "white",
              "width": 0.5
             },
             "pattern": {
              "fillmode": "overlay",
              "size": 10,
              "solidity": 0.2
             }
            },
            "type": "bar"
           }
          ],
          "barpolar": [
           {
            "marker": {
             "line": {
              "color": "white",
              "width": 0.5
             },
             "pattern": {
              "fillmode": "overlay",
              "size": 10,
              "solidity": 0.2
             }
            },
            "type": "barpolar"
           }
          ],
          "carpet": [
           {
            "aaxis": {
             "endlinecolor": "#2a3f5f",
             "gridcolor": "#C8D4E3",
             "linecolor": "#C8D4E3",
             "minorgridcolor": "#C8D4E3",
             "startlinecolor": "#2a3f5f"
            },
            "baxis": {
             "endlinecolor": "#2a3f5f",
             "gridcolor": "#C8D4E3",
             "linecolor": "#C8D4E3",
             "minorgridcolor": "#C8D4E3",
             "startlinecolor": "#2a3f5f"
            },
            "type": "carpet"
           }
          ],
          "choropleth": [
           {
            "colorbar": {
             "outlinewidth": 0,
             "ticks": ""
            },
            "type": "choropleth"
           }
          ],
          "contour": [
           {
            "colorbar": {
             "outlinewidth": 0,
             "ticks": ""
            },
            "colorscale": [
             [
              0,
              "#0d0887"
             ],
             [
              0.1111111111111111,
              "#46039f"
             ],
             [
              0.2222222222222222,
              "#7201a8"
             ],
             [
              0.3333333333333333,
              "#9c179e"
             ],
             [
              0.4444444444444444,
              "#bd3786"
             ],
             [
              0.5555555555555556,
              "#d8576b"
             ],
             [
              0.6666666666666666,
              "#ed7953"
             ],
             [
              0.7777777777777778,
              "#fb9f3a"
             ],
             [
              0.8888888888888888,
              "#fdca26"
             ],
             [
              1,
              "#f0f921"
             ]
            ],
            "type": "contour"
           }
          ],
          "contourcarpet": [
           {
            "colorbar": {
             "outlinewidth": 0,
             "ticks": ""
            },
            "type": "contourcarpet"
           }
          ],
          "heatmap": [
           {
            "colorbar": {
             "outlinewidth": 0,
             "ticks": ""
            },
            "colorscale": [
             [
              0,
              "#0d0887"
             ],
             [
              0.1111111111111111,
              "#46039f"
             ],
             [
              0.2222222222222222,
              "#7201a8"
             ],
             [
              0.3333333333333333,
              "#9c179e"
             ],
             [
              0.4444444444444444,
              "#bd3786"
             ],
             [
              0.5555555555555556,
              "#d8576b"
             ],
             [
              0.6666666666666666,
              "#ed7953"
             ],
             [
              0.7777777777777778,
              "#fb9f3a"
             ],
             [
              0.8888888888888888,
              "#fdca26"
             ],
             [
              1,
              "#f0f921"
             ]
            ],
            "type": "heatmap"
           }
          ],
          "heatmapgl": [
           {
            "colorbar": {
             "outlinewidth": 0,
             "ticks": ""
            },
            "colorscale": [
             [
              0,
              "#0d0887"
             ],
             [
              0.1111111111111111,
              "#46039f"
             ],
             [
              0.2222222222222222,
              "#7201a8"
             ],
             [
              0.3333333333333333,
              "#9c179e"
             ],
             [
              0.4444444444444444,
              "#bd3786"
             ],
             [
              0.5555555555555556,
              "#d8576b"
             ],
             [
              0.6666666666666666,
              "#ed7953"
             ],
             [
              0.7777777777777778,
              "#fb9f3a"
             ],
             [
              0.8888888888888888,
              "#fdca26"
             ],
             [
              1,
              "#f0f921"
             ]
            ],
            "type": "heatmapgl"
           }
          ],
          "histogram": [
           {
            "marker": {
             "pattern": {
              "fillmode": "overlay",
              "size": 10,
              "solidity": 0.2
             }
            },
            "type": "histogram"
           }
          ],
          "histogram2d": [
           {
            "colorbar": {
             "outlinewidth": 0,
             "ticks": ""
            },
            "colorscale": [
             [
              0,
              "#0d0887"
             ],
             [
              0.1111111111111111,
              "#46039f"
             ],
             [
              0.2222222222222222,
              "#7201a8"
             ],
             [
              0.3333333333333333,
              "#9c179e"
             ],
             [
              0.4444444444444444,
              "#bd3786"
             ],
             [
              0.5555555555555556,
              "#d8576b"
             ],
             [
              0.6666666666666666,
              "#ed7953"
             ],
             [
              0.7777777777777778,
              "#fb9f3a"
             ],
             [
              0.8888888888888888,
              "#fdca26"
             ],
             [
              1,
              "#f0f921"
             ]
            ],
            "type": "histogram2d"
           }
          ],
          "histogram2dcontour": [
           {
            "colorbar": {
             "outlinewidth": 0,
             "ticks": ""
            },
            "colorscale": [
             [
              0,
              "#0d0887"
             ],
             [
              0.1111111111111111,
              "#46039f"
             ],
             [
              0.2222222222222222,
              "#7201a8"
             ],
             [
              0.3333333333333333,
              "#9c179e"
             ],
             [
              0.4444444444444444,
              "#bd3786"
             ],
             [
              0.5555555555555556,
              "#d8576b"
             ],
             [
              0.6666666666666666,
              "#ed7953"
             ],
             [
              0.7777777777777778,
              "#fb9f3a"
             ],
             [
              0.8888888888888888,
              "#fdca26"
             ],
             [
              1,
              "#f0f921"
             ]
            ],
            "type": "histogram2dcontour"
           }
          ],
          "mesh3d": [
           {
            "colorbar": {
             "outlinewidth": 0,
             "ticks": ""
            },
            "type": "mesh3d"
           }
          ],
          "parcoords": [
           {
            "line": {
             "colorbar": {
              "outlinewidth": 0,
              "ticks": ""
             }
            },
            "type": "parcoords"
           }
          ],
          "pie": [
           {
            "automargin": true,
            "type": "pie"
           }
          ],
          "scatter": [
           {
            "fillpattern": {
             "fillmode": "overlay",
             "size": 10,
             "solidity": 0.2
            },
            "type": "scatter"
           }
          ],
          "scatter3d": [
           {
            "line": {
             "colorbar": {
              "outlinewidth": 0,
              "ticks": ""
             }
            },
            "marker": {
             "colorbar": {
              "outlinewidth": 0,
              "ticks": ""
             }
            },
            "type": "scatter3d"
           }
          ],
          "scattercarpet": [
           {
            "marker": {
             "colorbar": {
              "outlinewidth": 0,
              "ticks": ""
             }
            },
            "type": "scattercarpet"
           }
          ],
          "scattergeo": [
           {
            "marker": {
             "colorbar": {
              "outlinewidth": 0,
              "ticks": ""
             }
            },
            "type": "scattergeo"
           }
          ],
          "scattergl": [
           {
            "marker": {
             "colorbar": {
              "outlinewidth": 0,
              "ticks": ""
             }
            },
            "type": "scattergl"
           }
          ],
          "scattermapbox": [
           {
            "marker": {
             "colorbar": {
              "outlinewidth": 0,
              "ticks": ""
             }
            },
            "type": "scattermapbox"
           }
          ],
          "scatterpolar": [
           {
            "marker": {
             "colorbar": {
              "outlinewidth": 0,
              "ticks": ""
             }
            },
            "type": "scatterpolar"
           }
          ],
          "scatterpolargl": [
           {
            "marker": {
             "colorbar": {
              "outlinewidth": 0,
              "ticks": ""
             }
            },
            "type": "scatterpolargl"
           }
          ],
          "scatterternary": [
           {
            "marker": {
             "colorbar": {
              "outlinewidth": 0,
              "ticks": ""
             }
            },
            "type": "scatterternary"
           }
          ],
          "surface": [
           {
            "colorbar": {
             "outlinewidth": 0,
             "ticks": ""
            },
            "colorscale": [
             [
              0,
              "#0d0887"
             ],
             [
              0.1111111111111111,
              "#46039f"
             ],
             [
              0.2222222222222222,
              "#7201a8"
             ],
             [
              0.3333333333333333,
              "#9c179e"
             ],
             [
              0.4444444444444444,
              "#bd3786"
             ],
             [
              0.5555555555555556,
              "#d8576b"
             ],
             [
              0.6666666666666666,
              "#ed7953"
             ],
             [
              0.7777777777777778,
              "#fb9f3a"
             ],
             [
              0.8888888888888888,
              "#fdca26"
             ],
             [
              1,
              "#f0f921"
             ]
            ],
            "type": "surface"
           }
          ],
          "table": [
           {
            "cells": {
             "fill": {
              "color": "#EBF0F8"
             },
             "line": {
              "color": "white"
             }
            },
            "header": {
             "fill": {
              "color": "#C8D4E3"
             },
             "line": {
              "color": "white"
             }
            },
            "type": "table"
           }
          ]
         },
         "layout": {
          "annotationdefaults": {
           "arrowcolor": "#2a3f5f",
           "arrowhead": 0,
           "arrowwidth": 1
          },
          "autotypenumbers": "strict",
          "coloraxis": {
           "colorbar": {
            "outlinewidth": 0,
            "ticks": ""
           }
          },
          "colorscale": {
           "diverging": [
            [
             0,
             "#8e0152"
            ],
            [
             0.1,
             "#c51b7d"
            ],
            [
             0.2,
             "#de77ae"
            ],
            [
             0.3,
             "#f1b6da"
            ],
            [
             0.4,
             "#fde0ef"
            ],
            [
             0.5,
             "#f7f7f7"
            ],
            [
             0.6,
             "#e6f5d0"
            ],
            [
             0.7,
             "#b8e186"
            ],
            [
             0.8,
             "#7fbc41"
            ],
            [
             0.9,
             "#4d9221"
            ],
            [
             1,
             "#276419"
            ]
           ],
           "sequential": [
            [
             0,
             "#0d0887"
            ],
            [
             0.1111111111111111,
             "#46039f"
            ],
            [
             0.2222222222222222,
             "#7201a8"
            ],
            [
             0.3333333333333333,
             "#9c179e"
            ],
            [
             0.4444444444444444,
             "#bd3786"
            ],
            [
             0.5555555555555556,
             "#d8576b"
            ],
            [
             0.6666666666666666,
             "#ed7953"
            ],
            [
             0.7777777777777778,
             "#fb9f3a"
            ],
            [
             0.8888888888888888,
             "#fdca26"
            ],
            [
             1,
             "#f0f921"
            ]
           ],
           "sequentialminus": [
            [
             0,
             "#0d0887"
            ],
            [
             0.1111111111111111,
             "#46039f"
            ],
            [
             0.2222222222222222,
             "#7201a8"
            ],
            [
             0.3333333333333333,
             "#9c179e"
            ],
            [
             0.4444444444444444,
             "#bd3786"
            ],
            [
             0.5555555555555556,
             "#d8576b"
            ],
            [
             0.6666666666666666,
             "#ed7953"
            ],
            [
             0.7777777777777778,
             "#fb9f3a"
            ],
            [
             0.8888888888888888,
             "#fdca26"
            ],
            [
             1,
             "#f0f921"
            ]
           ]
          },
          "colorway": [
           "#636efa",
           "#EF553B",
           "#00cc96",
           "#ab63fa",
           "#FFA15A",
           "#19d3f3",
           "#FF6692",
           "#B6E880",
           "#FF97FF",
           "#FECB52"
          ],
          "font": {
           "color": "#2a3f5f"
          },
          "geo": {
           "bgcolor": "white",
           "lakecolor": "white",
           "landcolor": "white",
           "showlakes": true,
           "showland": true,
           "subunitcolor": "#C8D4E3"
          },
          "hoverlabel": {
           "align": "left"
          },
          "hovermode": "closest",
          "mapbox": {
           "style": "light"
          },
          "paper_bgcolor": "white",
          "plot_bgcolor": "white",
          "polar": {
           "angularaxis": {
            "gridcolor": "#EBF0F8",
            "linecolor": "#EBF0F8",
            "ticks": ""
           },
           "bgcolor": "white",
           "radialaxis": {
            "gridcolor": "#EBF0F8",
            "linecolor": "#EBF0F8",
            "ticks": ""
           }
          },
          "scene": {
           "xaxis": {
            "backgroundcolor": "white",
            "gridcolor": "#DFE8F3",
            "gridwidth": 2,
            "linecolor": "#EBF0F8",
            "showbackground": true,
            "ticks": "",
            "zerolinecolor": "#EBF0F8"
           },
           "yaxis": {
            "backgroundcolor": "white",
            "gridcolor": "#DFE8F3",
            "gridwidth": 2,
            "linecolor": "#EBF0F8",
            "showbackground": true,
            "ticks": "",
            "zerolinecolor": "#EBF0F8"
           },
           "zaxis": {
            "backgroundcolor": "white",
            "gridcolor": "#DFE8F3",
            "gridwidth": 2,
            "linecolor": "#EBF0F8",
            "showbackground": true,
            "ticks": "",
            "zerolinecolor": "#EBF0F8"
           }
          },
          "shapedefaults": {
           "line": {
            "color": "#2a3f5f"
           }
          },
          "ternary": {
           "aaxis": {
            "gridcolor": "#DFE8F3",
            "linecolor": "#A2B1C6",
            "ticks": ""
           },
           "baxis": {
            "gridcolor": "#DFE8F3",
            "linecolor": "#A2B1C6",
            "ticks": ""
           },
           "bgcolor": "white",
           "caxis": {
            "gridcolor": "#DFE8F3",
            "linecolor": "#A2B1C6",
            "ticks": ""
           }
          },
          "title": {
           "x": 0.05
          },
          "xaxis": {
           "automargin": true,
           "gridcolor": "#EBF0F8",
           "linecolor": "#EBF0F8",
           "ticks": "",
           "title": {
            "standoff": 15
           },
           "zerolinecolor": "#EBF0F8",
           "zerolinewidth": 2
          },
          "yaxis": {
           "automargin": true,
           "gridcolor": "#EBF0F8",
           "linecolor": "#EBF0F8",
           "ticks": "",
           "title": {
            "standoff": 15
           },
           "zerolinecolor": "#EBF0F8",
           "zerolinewidth": 2
          }
         }
        },
        "width": 650,
        "xaxis": {
         "dtick": 1,
         "gridwidth": 1,
         "maxallowed": 23.5199765,
         "minallowed": -0.02,
         "range": [
          -0.02,
          23.5199765
         ],
         "showgrid": true,
         "showticklabels": false
        },
        "yaxis": {
         "dtick": 1,
         "gridwidth": 1,
         "maxallowed": 74.5,
         "minallowed": 40.5,
         "range": [
          40.5,
          74.5
         ],
         "showgrid": true,
         "showticklabels": false,
         "tick0": 0.5
        }
       }
      }
     },
     "metadata": {},
     "output_type": "display_data"
    }
   ],
   "source": [
    "html_string = fig.to_html(full_html=False, include_plotlyjs='cdn', config=config)\n",
    "plot_dict['midi_roll'] = html_string\n",
    "with open(plot_dict_path, 'w') as f:\n",
    "    json.dump(plot_dict, f)\n",
    "\n",
    "fig.update_layout(\n",
    "    width=650\n",
    ")\n",
    "\n",
    "fig.show(config=config)"
   ]
  },
  {
   "cell_type": "code",
   "execution_count": null,
   "id": "e7754b27",
   "metadata": {},
   "outputs": [],
   "source": []
  },
  {
   "cell_type": "code",
   "execution_count": 106,
   "id": "eba148c8",
   "metadata": {},
   "outputs": [],
   "source": [
    "from midi_utils.encoding_decoding import get_events"
   ]
  },
  {
   "cell_type": "code",
   "execution_count": 107,
   "id": "bdd24698",
   "metadata": {},
   "outputs": [],
   "source": [
    "tempi, pitch_counts, duration_counts, events = get_events('lachrimae_first_measures.mid')"
   ]
  },
  {
   "cell_type": "code",
   "execution_count": 109,
   "id": "bfdbc306",
   "metadata": {},
   "outputs": [
    {
     "name": "stdout",
     "output_type": "stream",
     "text": [
      "['MEASURE', 'EVEN', 'NOTE=43', 'DELTA=2.0', 'NOTE=58', 'DELTA=1.5', 'NOTE=62', 'DELTA=1.5', 'NOTE=67', 'DELTA=1.5', 'STEP', 'DELTA=1.0', 'NOTE=55', 'DELTA=0.5', 'STEP', 'DELTA=0.5', 'NOTE=57', 'DELTA=0.5', 'NOTE=65', 'DELTA=0.5', 'STEP', 'DELTA=0.25', 'NOTE=63', 'DELTA=0.25', 'STEP', 'DELTA=0.25', 'NOTE=43', 'DELTA=2.0', 'NOTE=58', 'DELTA=0.5', 'NOTE=62', 'DELTA=0.5', 'STEP', 'DELTA=0.5', 'NOTE=60', 'DELTA=0.5', 'STEP', 'DELTA=0.5', 'NOTE=62', 'DELTA=1.0', 'NOTE=70', 'DELTA=1.0', 'STEP', 'DELTA=1.0', 'MEASURE', 'EVEN', 'NOTE=51', 'DELTA=2.0', 'NOTE=55', 'DELTA=2.0', 'NOTE=63', 'DELTA=1.0', 'STEP', 'DELTA=0.5', 'NOTE=72', 'DELTA=0.25', 'STEP', 'DELTA=0.25', 'NOTE=70', 'DELTA=0.25', 'STEP', 'DELTA=0.25', 'NOTE=69', 'DELTA=0.5', 'STEP', 'DELTA=0.5', 'NOTE=67', 'DELTA=0.5']\n"
     ]
    }
   ],
   "source": [
    "print(events)"
   ]
  },
  {
   "cell_type": "code",
   "execution_count": null,
   "id": "9d3cf731",
   "metadata": {},
   "outputs": [],
   "source": []
  },
  {
   "cell_type": "code",
   "execution_count": null,
   "id": "3bf1adac",
   "metadata": {},
   "outputs": [],
   "source": []
  },
  {
   "cell_type": "code",
   "execution_count": null,
   "id": "4e666c3a",
   "metadata": {},
   "outputs": [],
   "source": []
  },
  {
   "cell_type": "code",
   "execution_count": null,
   "id": "df511381",
   "metadata": {},
   "outputs": [],
   "source": []
  },
  {
   "cell_type": "code",
   "execution_count": 8,
   "id": "c12b1a4d-1641-4a4f-b4fb-63161c36f858",
   "metadata": {},
   "outputs": [
    {
     "data": {
      "application/vnd.plotly.v1+json": {
       "config": {
        "autosizable": true,
        "displayModeBar": false,
        "plotlyServerURL": "https://plot.ly",
        "responsive": true,
        "scrollZoom": false,
        "showTips": false
       },
       "data": [
        {
         "mode": "lines",
         "name": "Training Loss",
         "type": "scatter",
         "x": [
          1,
          2,
          3,
          4,
          5,
          6,
          7,
          8,
          9,
          10,
          11,
          12,
          13,
          14,
          15,
          16,
          17,
          18,
          19,
          20,
          21,
          22,
          23,
          24,
          25,
          26,
          27,
          28,
          29,
          30,
          31,
          32,
          33,
          34,
          35,
          36,
          37,
          38,
          39,
          40,
          41,
          42,
          43,
          44,
          45,
          46,
          47,
          48,
          49,
          50,
          51,
          52,
          53,
          54,
          55,
          56,
          57,
          58,
          59,
          60,
          61,
          62,
          63,
          64,
          65,
          66,
          67,
          68,
          69,
          70,
          71,
          72,
          73,
          74,
          75,
          76,
          77,
          78,
          79,
          80,
          81,
          82,
          83,
          84,
          85,
          86,
          87,
          88,
          89,
          90,
          91,
          92,
          93,
          94,
          95,
          96,
          97,
          98,
          99,
          100,
          101,
          102,
          103,
          104,
          105,
          106,
          107,
          108,
          109,
          110,
          111,
          112,
          113,
          114,
          115,
          116,
          117,
          118,
          119,
          120
         ],
         "y": [
          2.1485652923583984,
          1.7443653345108032,
          1.4504945278167725,
          1.2884056568145752,
          1.1884362697601318,
          1.1146563291549683,
          1.0496546030044556,
          0.9941045641899109,
          0.9513404369354248,
          0.9178221821784973,
          0.887518048286438,
          0.8620894551277161,
          0.840237021446228,
          0.8219767212867737,
          0.8057915568351746,
          0.7916142344474792,
          0.777572751045227,
          0.7667989134788513,
          0.7542158365249634,
          0.7457422614097595,
          0.734700620174408,
          0.7265185713768005,
          0.7168400287628174,
          0.710703432559967,
          0.7024703621864319,
          0.6964406371116638,
          0.6897181272506714,
          0.6843695640563965,
          0.6775625944137573,
          0.6722684502601624,
          0.6667542457580566,
          0.6622564196586609,
          0.6566510200500488,
          0.6529406905174255,
          0.6481723785400391,
          0.6424286961555481,
          0.6388339400291443,
          0.6343152523040771,
          0.630093514919281,
          0.6273723244667053,
          0.6226656436920166,
          0.6196892857551575,
          0.6165576577186584,
          0.6137394309043884,
          0.6095024347305298,
          0.6075150370597839,
          0.602688193321228,
          0.6005056500434875,
          0.5968130826950073,
          0.5946647524833679,
          0.5913499593734741,
          0.589833676815033,
          0.5859848260879517,
          0.584355354309082,
          0.5821374654769897,
          0.5791017413139343,
          0.5768805742263794,
          0.5740294456481934,
          0.5725914835929871,
          0.570170521736145,
          0.5681092143058777,
          0.5655568838119507,
          0.5631670355796814,
          0.5606088638305664,
          0.5596360564231873,
          0.5577510595321655,
          0.5552952885627747,
          0.5532442927360535,
          0.5517042875289917,
          0.5501883625984192,
          0.5499363541603088,
          0.5457964539527893,
          0.5452463626861572,
          0.5441535711288452,
          0.541095495223999,
          0.5389708876609802,
          0.5376709699630737,
          0.537639319896698,
          0.5356681942939758,
          0.5328540205955505,
          0.5323618650436401,
          0.5316739082336426,
          0.5311487913131714,
          0.5289283990859985,
          0.5274069309234619,
          0.5267313718795776,
          0.5262384414672852,
          0.5239558219909668,
          0.522618293762207,
          0.5212985277175903,
          0.5201708674430847,
          0.5193671584129333,
          0.5167425870895386,
          0.5164211988449097,
          0.5149588584899902,
          0.5141821503639221,
          0.5126201510429382,
          0.5125272870063782,
          0.5112349390983582,
          0.5097101330757141,
          0.5087178349494934,
          0.507935643196106,
          0.506224513053894,
          0.5052796602249146,
          0.504364550113678,
          0.503830075263977,
          0.5030313730239868,
          0.5018401741981506,
          0.5002094507217407,
          0.49912792444229126,
          0.4982714354991913,
          0.4980580508708954,
          0.4967145323753357,
          0.49561941623687744,
          0.49603524804115295,
          0.4944952428340912,
          0.4937562048435211,
          0.49219393730163574,
          0.4911462366580963,
          0.4916757345199585
         ]
        },
        {
         "mode": "lines",
         "name": "Validation Loss",
         "type": "scatter",
         "x": [
          1,
          2,
          3,
          4,
          5,
          6,
          7,
          8,
          9,
          10,
          11,
          12,
          13,
          14,
          15,
          16,
          17,
          18,
          19,
          20,
          21,
          22,
          23,
          24,
          25,
          26,
          27,
          28,
          29,
          30,
          31,
          32,
          33,
          34,
          35,
          36,
          37,
          38,
          39,
          40,
          41,
          42,
          43,
          44,
          45,
          46,
          47,
          48,
          49,
          50,
          51,
          52,
          53,
          54,
          55,
          56,
          57,
          58,
          59,
          60,
          61,
          62,
          63,
          64,
          65,
          66,
          67,
          68,
          69,
          70,
          71,
          72,
          73,
          74,
          75,
          76,
          77,
          78,
          79,
          80,
          81,
          82,
          83,
          84,
          85,
          86,
          87,
          88,
          89,
          90,
          91,
          92,
          93,
          94,
          95,
          96,
          97,
          98,
          99,
          100,
          101,
          102,
          103,
          104,
          105,
          106,
          107,
          108,
          109,
          110,
          111,
          112,
          113,
          114,
          115,
          116,
          117,
          118,
          119,
          120
         ],
         "y": [
          1.8494758605957031,
          1.5682560205459595,
          1.2905186414718628,
          1.1680253744125366,
          1.0851856470108032,
          1.0088105201721191,
          0.946669340133667,
          0.9015287160873413,
          0.8655626177787781,
          0.8392894268035889,
          0.8119296431541443,
          0.7908428311347961,
          0.7732750773429871,
          0.7570041418075562,
          0.7430691719055176,
          0.7309800982475281,
          0.7190159559249878,
          0.7086617946624756,
          0.6990876197814941,
          0.6909092664718628,
          0.6822594404220581,
          0.6801900863647461,
          0.6725538372993469,
          0.6655811667442322,
          0.6616308093070984,
          0.6564424633979797,
          0.6498859524726868,
          0.641628086566925,
          0.6344683766365051,
          0.6334963440895081,
          0.6289418339729309,
          0.6233046054840088,
          0.626061201095581,
          0.617300808429718,
          0.613990306854248,
          0.607023298740387,
          0.605275571346283,
          0.6028544902801514,
          0.6016631126403809,
          0.5997477173805237,
          0.5952908992767334,
          0.591702938079834,
          0.5888863801956177,
          0.5853731632232666,
          0.5892899036407471,
          0.5812704563140869,
          0.5805922746658325,
          0.5761374831199646,
          0.5732420086860657,
          0.5690122246742249,
          0.571951687335968,
          0.5674999356269836,
          0.5651453137397766,
          0.5626569390296936,
          0.562039315700531,
          0.5592470765113831,
          0.5597713589668274,
          0.5606112480163574,
          0.555993378162384,
          0.5482715368270874,
          0.5498800873756409,
          0.5479269623756409,
          0.5474526286125183,
          0.545150637626648,
          0.5447394251823425,
          0.5422878861427307,
          0.5447545647621155,
          0.539624035358429,
          0.5381616353988647,
          0.5376757383346558,
          0.5366480946540833,
          0.534998893737793,
          0.535831868648529,
          0.5332586169242859,
          0.5315210819244385,
          0.5295794606208801,
          0.5304855108261108,
          0.5314189791679382,
          0.5239243507385254,
          0.5256475210189819,
          0.5245708227157593,
          0.5269024968147278,
          0.5233563184738159,
          0.5266203284263611,
          0.5200875997543335,
          0.5226259827613831,
          0.5207681655883789,
          0.5162291526794434,
          0.5170121788978577,
          0.5143625736236572,
          0.5148904323577881,
          0.5129396319389343,
          0.5098978877067566,
          0.5092146396636963,
          0.5082185864448547,
          0.5115499496459961,
          0.5082167387008667,
          0.5042552351951599,
          0.5072795748710632,
          0.505842387676239,
          0.5036324262619019,
          0.5067484974861145,
          0.5032527446746826,
          0.5019082427024841,
          0.5018921494483948,
          0.500410258769989,
          0.4999539852142334,
          0.5023263692855835,
          0.49871882796287537,
          0.49598589539527893,
          0.4970683157444,
          0.4979006052017212,
          0.49457594752311707,
          0.49388447403907776,
          0.4960944652557373,
          0.4947379231452942,
          0.4933680593967438,
          0.4919726848602295,
          0.4909985065460205,
          0.49240612983703613
         ]
        }
       ],
       "layout": {
        "height": 320,
        "legend": {
         "x": 0.99,
         "xanchor": "right",
         "y": 0.99,
         "yanchor": "top"
        },
        "margin": {
         "b": 0,
         "l": 0,
         "r": 0,
         "t": 0
        },
        "showlegend": true,
        "template": {
         "data": {
          "bar": [
           {
            "error_x": {
             "color": "rgb(36,36,36)"
            },
            "error_y": {
             "color": "rgb(36,36,36)"
            },
            "marker": {
             "line": {
              "color": "white",
              "width": 0.5
             },
             "pattern": {
              "fillmode": "overlay",
              "size": 10,
              "solidity": 0.2
             }
            },
            "type": "bar"
           }
          ],
          "barpolar": [
           {
            "marker": {
             "line": {
              "color": "white",
              "width": 0.5
             },
             "pattern": {
              "fillmode": "overlay",
              "size": 10,
              "solidity": 0.2
             }
            },
            "type": "barpolar"
           }
          ],
          "carpet": [
           {
            "aaxis": {
             "endlinecolor": "rgb(36,36,36)",
             "gridcolor": "white",
             "linecolor": "white",
             "minorgridcolor": "white",
             "startlinecolor": "rgb(36,36,36)"
            },
            "baxis": {
             "endlinecolor": "rgb(36,36,36)",
             "gridcolor": "white",
             "linecolor": "white",
             "minorgridcolor": "white",
             "startlinecolor": "rgb(36,36,36)"
            },
            "type": "carpet"
           }
          ],
          "choropleth": [
           {
            "colorbar": {
             "outlinewidth": 1,
             "tickcolor": "rgb(36,36,36)",
             "ticks": "outside"
            },
            "type": "choropleth"
           }
          ],
          "contour": [
           {
            "colorbar": {
             "outlinewidth": 1,
             "tickcolor": "rgb(36,36,36)",
             "ticks": "outside"
            },
            "colorscale": [
             [
              0,
              "#440154"
             ],
             [
              0.1111111111111111,
              "#482878"
             ],
             [
              0.2222222222222222,
              "#3e4989"
             ],
             [
              0.3333333333333333,
              "#31688e"
             ],
             [
              0.4444444444444444,
              "#26828e"
             ],
             [
              0.5555555555555556,
              "#1f9e89"
             ],
             [
              0.6666666666666666,
              "#35b779"
             ],
             [
              0.7777777777777778,
              "#6ece58"
             ],
             [
              0.8888888888888888,
              "#b5de2b"
             ],
             [
              1,
              "#fde725"
             ]
            ],
            "type": "contour"
           }
          ],
          "contourcarpet": [
           {
            "colorbar": {
             "outlinewidth": 1,
             "tickcolor": "rgb(36,36,36)",
             "ticks": "outside"
            },
            "type": "contourcarpet"
           }
          ],
          "heatmap": [
           {
            "colorbar": {
             "outlinewidth": 1,
             "tickcolor": "rgb(36,36,36)",
             "ticks": "outside"
            },
            "colorscale": [
             [
              0,
              "#440154"
             ],
             [
              0.1111111111111111,
              "#482878"
             ],
             [
              0.2222222222222222,
              "#3e4989"
             ],
             [
              0.3333333333333333,
              "#31688e"
             ],
             [
              0.4444444444444444,
              "#26828e"
             ],
             [
              0.5555555555555556,
              "#1f9e89"
             ],
             [
              0.6666666666666666,
              "#35b779"
             ],
             [
              0.7777777777777778,
              "#6ece58"
             ],
             [
              0.8888888888888888,
              "#b5de2b"
             ],
             [
              1,
              "#fde725"
             ]
            ],
            "type": "heatmap"
           }
          ],
          "heatmapgl": [
           {
            "colorbar": {
             "outlinewidth": 1,
             "tickcolor": "rgb(36,36,36)",
             "ticks": "outside"
            },
            "colorscale": [
             [
              0,
              "#440154"
             ],
             [
              0.1111111111111111,
              "#482878"
             ],
             [
              0.2222222222222222,
              "#3e4989"
             ],
             [
              0.3333333333333333,
              "#31688e"
             ],
             [
              0.4444444444444444,
              "#26828e"
             ],
             [
              0.5555555555555556,
              "#1f9e89"
             ],
             [
              0.6666666666666666,
              "#35b779"
             ],
             [
              0.7777777777777778,
              "#6ece58"
             ],
             [
              0.8888888888888888,
              "#b5de2b"
             ],
             [
              1,
              "#fde725"
             ]
            ],
            "type": "heatmapgl"
           }
          ],
          "histogram": [
           {
            "marker": {
             "line": {
              "color": "white",
              "width": 0.6
             }
            },
            "type": "histogram"
           }
          ],
          "histogram2d": [
           {
            "colorbar": {
             "outlinewidth": 1,
             "tickcolor": "rgb(36,36,36)",
             "ticks": "outside"
            },
            "colorscale": [
             [
              0,
              "#440154"
             ],
             [
              0.1111111111111111,
              "#482878"
             ],
             [
              0.2222222222222222,
              "#3e4989"
             ],
             [
              0.3333333333333333,
              "#31688e"
             ],
             [
              0.4444444444444444,
              "#26828e"
             ],
             [
              0.5555555555555556,
              "#1f9e89"
             ],
             [
              0.6666666666666666,
              "#35b779"
             ],
             [
              0.7777777777777778,
              "#6ece58"
             ],
             [
              0.8888888888888888,
              "#b5de2b"
             ],
             [
              1,
              "#fde725"
             ]
            ],
            "type": "histogram2d"
           }
          ],
          "histogram2dcontour": [
           {
            "colorbar": {
             "outlinewidth": 1,
             "tickcolor": "rgb(36,36,36)",
             "ticks": "outside"
            },
            "colorscale": [
             [
              0,
              "#440154"
             ],
             [
              0.1111111111111111,
              "#482878"
             ],
             [
              0.2222222222222222,
              "#3e4989"
             ],
             [
              0.3333333333333333,
              "#31688e"
             ],
             [
              0.4444444444444444,
              "#26828e"
             ],
             [
              0.5555555555555556,
              "#1f9e89"
             ],
             [
              0.6666666666666666,
              "#35b779"
             ],
             [
              0.7777777777777778,
              "#6ece58"
             ],
             [
              0.8888888888888888,
              "#b5de2b"
             ],
             [
              1,
              "#fde725"
             ]
            ],
            "type": "histogram2dcontour"
           }
          ],
          "mesh3d": [
           {
            "colorbar": {
             "outlinewidth": 1,
             "tickcolor": "rgb(36,36,36)",
             "ticks": "outside"
            },
            "type": "mesh3d"
           }
          ],
          "parcoords": [
           {
            "line": {
             "colorbar": {
              "outlinewidth": 1,
              "tickcolor": "rgb(36,36,36)",
              "ticks": "outside"
             }
            },
            "type": "parcoords"
           }
          ],
          "pie": [
           {
            "automargin": true,
            "type": "pie"
           }
          ],
          "scatter": [
           {
            "fillpattern": {
             "fillmode": "overlay",
             "size": 10,
             "solidity": 0.2
            },
            "type": "scatter"
           }
          ],
          "scatter3d": [
           {
            "line": {
             "colorbar": {
              "outlinewidth": 1,
              "tickcolor": "rgb(36,36,36)",
              "ticks": "outside"
             }
            },
            "marker": {
             "colorbar": {
              "outlinewidth": 1,
              "tickcolor": "rgb(36,36,36)",
              "ticks": "outside"
             }
            },
            "type": "scatter3d"
           }
          ],
          "scattercarpet": [
           {
            "marker": {
             "colorbar": {
              "outlinewidth": 1,
              "tickcolor": "rgb(36,36,36)",
              "ticks": "outside"
             }
            },
            "type": "scattercarpet"
           }
          ],
          "scattergeo": [
           {
            "marker": {
             "colorbar": {
              "outlinewidth": 1,
              "tickcolor": "rgb(36,36,36)",
              "ticks": "outside"
             }
            },
            "type": "scattergeo"
           }
          ],
          "scattergl": [
           {
            "marker": {
             "colorbar": {
              "outlinewidth": 1,
              "tickcolor": "rgb(36,36,36)",
              "ticks": "outside"
             }
            },
            "type": "scattergl"
           }
          ],
          "scattermapbox": [
           {
            "marker": {
             "colorbar": {
              "outlinewidth": 1,
              "tickcolor": "rgb(36,36,36)",
              "ticks": "outside"
             }
            },
            "type": "scattermapbox"
           }
          ],
          "scatterpolar": [
           {
            "marker": {
             "colorbar": {
              "outlinewidth": 1,
              "tickcolor": "rgb(36,36,36)",
              "ticks": "outside"
             }
            },
            "type": "scatterpolar"
           }
          ],
          "scatterpolargl": [
           {
            "marker": {
             "colorbar": {
              "outlinewidth": 1,
              "tickcolor": "rgb(36,36,36)",
              "ticks": "outside"
             }
            },
            "type": "scatterpolargl"
           }
          ],
          "scatterternary": [
           {
            "marker": {
             "colorbar": {
              "outlinewidth": 1,
              "tickcolor": "rgb(36,36,36)",
              "ticks": "outside"
             }
            },
            "type": "scatterternary"
           }
          ],
          "surface": [
           {
            "colorbar": {
             "outlinewidth": 1,
             "tickcolor": "rgb(36,36,36)",
             "ticks": "outside"
            },
            "colorscale": [
             [
              0,
              "#440154"
             ],
             [
              0.1111111111111111,
              "#482878"
             ],
             [
              0.2222222222222222,
              "#3e4989"
             ],
             [
              0.3333333333333333,
              "#31688e"
             ],
             [
              0.4444444444444444,
              "#26828e"
             ],
             [
              0.5555555555555556,
              "#1f9e89"
             ],
             [
              0.6666666666666666,
              "#35b779"
             ],
             [
              0.7777777777777778,
              "#6ece58"
             ],
             [
              0.8888888888888888,
              "#b5de2b"
             ],
             [
              1,
              "#fde725"
             ]
            ],
            "type": "surface"
           }
          ],
          "table": [
           {
            "cells": {
             "fill": {
              "color": "rgb(237,237,237)"
             },
             "line": {
              "color": "white"
             }
            },
            "header": {
             "fill": {
              "color": "rgb(217,217,217)"
             },
             "line": {
              "color": "white"
             }
            },
            "type": "table"
           }
          ]
         },
         "layout": {
          "annotationdefaults": {
           "arrowhead": 0,
           "arrowwidth": 1
          },
          "autotypenumbers": "strict",
          "coloraxis": {
           "colorbar": {
            "outlinewidth": 1,
            "tickcolor": "rgb(36,36,36)",
            "ticks": "outside"
           }
          },
          "colorscale": {
           "diverging": [
            [
             0,
             "rgb(103,0,31)"
            ],
            [
             0.1,
             "rgb(178,24,43)"
            ],
            [
             0.2,
             "rgb(214,96,77)"
            ],
            [
             0.3,
             "rgb(244,165,130)"
            ],
            [
             0.4,
             "rgb(253,219,199)"
            ],
            [
             0.5,
             "rgb(247,247,247)"
            ],
            [
             0.6,
             "rgb(209,229,240)"
            ],
            [
             0.7,
             "rgb(146,197,222)"
            ],
            [
             0.8,
             "rgb(67,147,195)"
            ],
            [
             0.9,
             "rgb(33,102,172)"
            ],
            [
             1,
             "rgb(5,48,97)"
            ]
           ],
           "sequential": [
            [
             0,
             "#440154"
            ],
            [
             0.1111111111111111,
             "#482878"
            ],
            [
             0.2222222222222222,
             "#3e4989"
            ],
            [
             0.3333333333333333,
             "#31688e"
            ],
            [
             0.4444444444444444,
             "#26828e"
            ],
            [
             0.5555555555555556,
             "#1f9e89"
            ],
            [
             0.6666666666666666,
             "#35b779"
            ],
            [
             0.7777777777777778,
             "#6ece58"
            ],
            [
             0.8888888888888888,
             "#b5de2b"
            ],
            [
             1,
             "#fde725"
            ]
           ],
           "sequentialminus": [
            [
             0,
             "#440154"
            ],
            [
             0.1111111111111111,
             "#482878"
            ],
            [
             0.2222222222222222,
             "#3e4989"
            ],
            [
             0.3333333333333333,
             "#31688e"
            ],
            [
             0.4444444444444444,
             "#26828e"
            ],
            [
             0.5555555555555556,
             "#1f9e89"
            ],
            [
             0.6666666666666666,
             "#35b779"
            ],
            [
             0.7777777777777778,
             "#6ece58"
            ],
            [
             0.8888888888888888,
             "#b5de2b"
            ],
            [
             1,
             "#fde725"
            ]
           ]
          },
          "colorway": [
           "#1F77B4",
           "#FF7F0E",
           "#2CA02C",
           "#D62728",
           "#9467BD",
           "#8C564B",
           "#E377C2",
           "#7F7F7F",
           "#BCBD22",
           "#17BECF"
          ],
          "font": {
           "color": "rgb(36,36,36)"
          },
          "geo": {
           "bgcolor": "white",
           "lakecolor": "white",
           "landcolor": "white",
           "showlakes": true,
           "showland": true,
           "subunitcolor": "white"
          },
          "hoverlabel": {
           "align": "left"
          },
          "hovermode": "closest",
          "mapbox": {
           "style": "light"
          },
          "paper_bgcolor": "white",
          "plot_bgcolor": "white",
          "polar": {
           "angularaxis": {
            "gridcolor": "rgb(232,232,232)",
            "linecolor": "rgb(36,36,36)",
            "showgrid": false,
            "showline": true,
            "ticks": "outside"
           },
           "bgcolor": "white",
           "radialaxis": {
            "gridcolor": "rgb(232,232,232)",
            "linecolor": "rgb(36,36,36)",
            "showgrid": false,
            "showline": true,
            "ticks": "outside"
           }
          },
          "scene": {
           "xaxis": {
            "backgroundcolor": "white",
            "gridcolor": "rgb(232,232,232)",
            "gridwidth": 2,
            "linecolor": "rgb(36,36,36)",
            "showbackground": true,
            "showgrid": false,
            "showline": true,
            "ticks": "outside",
            "zeroline": false,
            "zerolinecolor": "rgb(36,36,36)"
           },
           "yaxis": {
            "backgroundcolor": "white",
            "gridcolor": "rgb(232,232,232)",
            "gridwidth": 2,
            "linecolor": "rgb(36,36,36)",
            "showbackground": true,
            "showgrid": false,
            "showline": true,
            "ticks": "outside",
            "zeroline": false,
            "zerolinecolor": "rgb(36,36,36)"
           },
           "zaxis": {
            "backgroundcolor": "white",
            "gridcolor": "rgb(232,232,232)",
            "gridwidth": 2,
            "linecolor": "rgb(36,36,36)",
            "showbackground": true,
            "showgrid": false,
            "showline": true,
            "ticks": "outside",
            "zeroline": false,
            "zerolinecolor": "rgb(36,36,36)"
           }
          },
          "shapedefaults": {
           "fillcolor": "black",
           "line": {
            "width": 0
           },
           "opacity": 0.3
          },
          "ternary": {
           "aaxis": {
            "gridcolor": "rgb(232,232,232)",
            "linecolor": "rgb(36,36,36)",
            "showgrid": false,
            "showline": true,
            "ticks": "outside"
           },
           "baxis": {
            "gridcolor": "rgb(232,232,232)",
            "linecolor": "rgb(36,36,36)",
            "showgrid": false,
            "showline": true,
            "ticks": "outside"
           },
           "bgcolor": "white",
           "caxis": {
            "gridcolor": "rgb(232,232,232)",
            "linecolor": "rgb(36,36,36)",
            "showgrid": false,
            "showline": true,
            "ticks": "outside"
           }
          },
          "title": {
           "x": 0.05
          },
          "xaxis": {
           "automargin": true,
           "gridcolor": "rgb(232,232,232)",
           "linecolor": "rgb(36,36,36)",
           "showgrid": false,
           "showline": true,
           "ticks": "outside",
           "title": {
            "standoff": 15
           },
           "zeroline": false,
           "zerolinecolor": "rgb(36,36,36)"
          },
          "yaxis": {
           "automargin": true,
           "gridcolor": "rgb(232,232,232)",
           "linecolor": "rgb(36,36,36)",
           "showgrid": false,
           "showline": true,
           "ticks": "outside",
           "title": {
            "standoff": 15
           },
           "zeroline": false,
           "zerolinecolor": "rgb(36,36,36)"
          }
         }
        },
        "width": 450,
        "xaxis": {
         "range": [
          0,
          125
         ],
         "title": {
          "text": "Epoch"
         }
        },
        "yaxis": {
         "range": [
          0.35,
          2.5
         ],
         "title": {
          "text": "Loss"
         }
        }
       }
      }
     },
     "metadata": {},
     "output_type": "display_data"
    }
   ],
   "source": [
    "import json\n",
    "import plotly.graph_objs as go\n",
    "\n",
    "with open('training_history.json', 'r') as file:\n",
    "    history_1 = json.load(file)\n",
    "\n",
    "with open('training_history_2.json', 'r') as file:\n",
    "    history_2 = json.load(file)\n",
    "\n",
    "with open('training_history_3.json', 'r') as file:\n",
    "    history_3 = json.load(file)\n",
    "\n",
    "epochs = list(range(1, 121))\n",
    "loss = history_1['loss'] + history_2['loss'] + history_3['loss']\n",
    "val_loss = history_1['val_loss'] + history_2['val_loss'] + history_3['val_loss']\n",
    "\n",
    "\n",
    "fig = go.Figure()\n",
    "\n",
    "fig.add_trace(go.Scatter(x=epochs, y=loss, mode='lines', name='Training Loss'))\n",
    "fig.add_trace(go.Scatter(x=epochs, y=val_loss, mode='lines', name='Validation Loss'))\n",
    "\n",
    "fig.update_layout(\n",
    "    height=320,\n",
    "    margin=dict(t=0, b=0, l=0, r=0),\n",
    "    showlegend=True,\n",
    "    template='simple_white',\n",
    "    #title='Neural Network Training History',\n",
    "    xaxis_title='Epoch',\n",
    "    yaxis_title='Loss',\n",
    "    legend=dict(\n",
    "        x=0.99,\n",
    "        y=0.99,\n",
    "        xanchor='right',\n",
    "        yanchor='top'\n",
    "    )\n",
    ")\n",
    "\n",
    "fig.update_xaxes(range=[0, 125])\n",
    "fig.update_yaxes(range=[0.35, 2.5])\n",
    "\n",
    "config = {\n",
    "    'displayModeBar': False,\n",
    "    'scrollZoom': False,\n",
    "    'autosizable': True,\n",
    "    'responsive': True,\n",
    "    'showTips': False\n",
    "}\n",
    "\n",
    "html_string = fig.to_html(full_html=False, include_plotlyjs='cdn', config=config)\n",
    "plot_dict['training_history'] = html_string\n",
    "with open(plot_dict_path, 'w') as f:\n",
    "    json.dump(plot_dict, f)\n",
    "\n",
    "fig.update_layout(\n",
    "    width=450\n",
    ")\n",
    "\n",
    "fig.show(config=config)"
   ]
  },
  {
   "cell_type": "code",
   "execution_count": 28,
   "id": "724d1d03-b75e-40d0-b46a-f89dea5b3c6d",
   "metadata": {},
   "outputs": [
    {
     "data": {
      "text/plain": [
       "(0.5997477173805237, 0.5256475210189819, 0.49240612983703613)"
      ]
     },
     "execution_count": 28,
     "metadata": {},
     "output_type": "execute_result"
    }
   ],
   "source": [
    "history_1['val_loss'][-1], history_2['val_loss'][-1], history_3['val_loss'][-1]"
   ]
  },
  {
   "cell_type": "code",
   "execution_count": 28,
   "id": "0acbe09b-bb44-4178-816d-64fc5dfa01df",
   "metadata": {},
   "outputs": [
    {
     "data": {
      "image/png": "[encoded data removed]",
      "text/plain": [
       "<Figure size 1000x400 with 2 Axes>"
      ]
     },
     "metadata": {},
     "output_type": "display_data"
    }
   ],
   "source": [
    "import matplotlib.pyplot as plt\n",
    "\n",
    "with open('training_history.json', 'r') as file:\n",
    "    history_1 = json.load(file)\n",
    "\n",
    "with open('training_history_2.json', 'r') as file:\n",
    "    history_2 = json.load(file)\n",
    "\n",
    "with open('training_history_3.json', 'r') as file:\n",
    "    history_3 = json.load(file)\n",
    "    \n",
    "\n",
    "loss = history_1['loss'] + history_2['loss'] + history_3['loss']\n",
    "val_loss = history_1['val_loss'] + history_2['val_loss'] + history_3['val_loss']\n",
    "\n",
    "perp = history_1['perplexity'] + history_2['perplexity'] + history_3['perplexity']\n",
    "val_perp= history_1['val_perplexity'] + history_2['val_perplexity'] + history_3['val_perplexity']\n",
    "\n",
    "fig, axs = plt.subplots(1,2, figsize=(10,4))\n",
    "axs[0].plot(loss, label='Training Loss')\n",
    "axs[0].plot(val_loss, label='Validation Loss')\n",
    "axs[0].legend()\n",
    "axs[0].set_title('Loss')\n",
    "axs[1].plot(perp, label='Training Perplexity')\n",
    "axs[1].plot(val_perp, label='Validation Perplexity')\n",
    "axs[1].legend()\n",
    "axs[1].set_title('Perplexity')\n",
    "plt.tight_layout()\n",
    "plt.savefig('training_history.png')\n",
    "plt.show()"
   ]
  },
  {
   "cell_type": "code",
   "execution_count": null,
   "id": "4b6e7af2-34dc-459c-b4fe-58eb2989d2cc",
   "metadata": {},
   "outputs": [],
   "source": []
  },
  {
   "cell_type": "code",
   "execution_count": null,
   "id": "e0ba402f-d2ea-4ad8-adcf-166610173670",
   "metadata": {},
   "outputs": [],
   "source": []
  },
  {
   "cell_type": "code",
   "execution_count": null,
   "id": "66901056-6259-4a21-a009-21de8a7d4aa7",
   "metadata": {},
   "outputs": [],
   "source": []
  },
  {
   "cell_type": "code",
   "execution_count": null,
   "id": "b316d674-7974-4e89-825a-a8efbf9ffa1a",
   "metadata": {},
   "outputs": [],
   "source": []
  },
  {
   "cell_type": "code",
   "execution_count": null,
   "id": "ff9b23a5-a0e8-4679-8c72-009814ea4de4",
   "metadata": {},
   "outputs": [],
   "source": []
  },
  {
   "cell_type": "code",
   "execution_count": null,
   "id": "79c9afc0-883c-4c5a-b459-95cc1f9812ac",
   "metadata": {},
   "outputs": [],
   "source": []
  },
  {
   "cell_type": "code",
   "execution_count": null,
   "id": "eef9fa83-26cd-47fe-bddf-92cd973ccd1f",
   "metadata": {},
   "outputs": [],
   "source": []
  },
  {
   "cell_type": "code",
   "execution_count": null,
   "id": "a74644d3-30a6-46bb-9499-12c6c728e748",
   "metadata": {},
   "outputs": [],
   "source": []
  }
 ],
 "metadata": {
  "kernelspec": {
   "display_name": "Python 3 (ipykernel)",
   "language": "python",
   "name": "python3"
  },
  "language_info": {
   "codemirror_mode": {
    "name": "ipython",
    "version": 3
   },
   "file_extension": ".py",
   "mimetype": "text/x-python",
   "name": "python",
   "nbconvert_exporter": "python",
   "pygments_lexer": "ipython3",
   "version": "3.11.8"
  }
 },
 "nbformat": 4,
 "nbformat_minor": 5
}
